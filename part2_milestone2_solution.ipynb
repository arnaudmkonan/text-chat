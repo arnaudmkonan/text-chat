{
 "cells": [
  {
   "cell_type": "code",
   "execution_count": 2,
   "metadata": {},
   "outputs": [
    {
     "name": "stdout",
     "output_type": "stream",
     "text": [
      "Requirement already satisfied: sentence-transformers in /Users/karnaudmac/opt/anaconda3/envs/ES-spacy-py310/lib/python3.10/site-packages (2.2.2)\n",
      "Requirement already satisfied: nltk in /Users/karnaudmac/opt/anaconda3/envs/ES-spacy-py310/lib/python3.10/site-packages (from sentence-transformers) (3.8.1)\n",
      "Requirement already satisfied: torchvision in /Users/karnaudmac/opt/anaconda3/envs/ES-spacy-py310/lib/python3.10/site-packages (from sentence-transformers) (0.14.1)\n",
      "Requirement already satisfied: scipy in /Users/karnaudmac/opt/anaconda3/envs/ES-spacy-py310/lib/python3.10/site-packages (from sentence-transformers) (1.10.1)\n",
      "Requirement already satisfied: sentencepiece in /Users/karnaudmac/opt/anaconda3/envs/ES-spacy-py310/lib/python3.10/site-packages (from sentence-transformers) (0.1.97)\n",
      "Requirement already satisfied: tqdm in /Users/karnaudmac/opt/anaconda3/envs/ES-spacy-py310/lib/python3.10/site-packages (from sentence-transformers) (4.64.1)\n",
      "Requirement already satisfied: torch>=1.6.0 in /Users/karnaudmac/opt/anaconda3/envs/ES-spacy-py310/lib/python3.10/site-packages (from sentence-transformers) (1.13.1)\n",
      "Requirement already satisfied: huggingface-hub>=0.4.0 in /Users/karnaudmac/opt/anaconda3/envs/ES-spacy-py310/lib/python3.10/site-packages (from sentence-transformers) (0.12.1)\n",
      "Requirement already satisfied: transformers<5.0.0,>=4.6.0 in /Users/karnaudmac/opt/anaconda3/envs/ES-spacy-py310/lib/python3.10/site-packages (from sentence-transformers) (4.26.1)\n",
      "Requirement already satisfied: numpy in /Users/karnaudmac/opt/anaconda3/envs/ES-spacy-py310/lib/python3.10/site-packages (from sentence-transformers) (1.24.2)\n",
      "Requirement already satisfied: scikit-learn in /Users/karnaudmac/opt/anaconda3/envs/ES-spacy-py310/lib/python3.10/site-packages (from sentence-transformers) (1.2.1)\n",
      "Requirement already satisfied: pyyaml>=5.1 in /Users/karnaudmac/opt/anaconda3/envs/ES-spacy-py310/lib/python3.10/site-packages (from huggingface-hub>=0.4.0->sentence-transformers) (6.0)\n",
      "Requirement already satisfied: filelock in /Users/karnaudmac/opt/anaconda3/envs/ES-spacy-py310/lib/python3.10/site-packages (from huggingface-hub>=0.4.0->sentence-transformers) (3.9.0)\n",
      "Requirement already satisfied: packaging>=20.9 in /Users/karnaudmac/opt/anaconda3/envs/ES-spacy-py310/lib/python3.10/site-packages (from huggingface-hub>=0.4.0->sentence-transformers) (23.0)\n",
      "Requirement already satisfied: requests in /Users/karnaudmac/opt/anaconda3/envs/ES-spacy-py310/lib/python3.10/site-packages (from huggingface-hub>=0.4.0->sentence-transformers) (2.28.2)\n",
      "Requirement already satisfied: typing-extensions>=3.7.4.3 in /Users/karnaudmac/opt/anaconda3/envs/ES-spacy-py310/lib/python3.10/site-packages (from huggingface-hub>=0.4.0->sentence-transformers) (4.5.0)\n",
      "Requirement already satisfied: regex!=2019.12.17 in /Users/karnaudmac/opt/anaconda3/envs/ES-spacy-py310/lib/python3.10/site-packages (from transformers<5.0.0,>=4.6.0->sentence-transformers) (2022.10.31)\n",
      "Requirement already satisfied: tokenizers!=0.11.3,<0.14,>=0.11.1 in /Users/karnaudmac/opt/anaconda3/envs/ES-spacy-py310/lib/python3.10/site-packages (from transformers<5.0.0,>=4.6.0->sentence-transformers) (0.13.2)\n",
      "Requirement already satisfied: click in /Users/karnaudmac/opt/anaconda3/envs/ES-spacy-py310/lib/python3.10/site-packages (from nltk->sentence-transformers) (8.1.3)\n",
      "Requirement already satisfied: joblib in /Users/karnaudmac/opt/anaconda3/envs/ES-spacy-py310/lib/python3.10/site-packages (from nltk->sentence-transformers) (1.2.0)\n",
      "Requirement already satisfied: threadpoolctl>=2.0.0 in /Users/karnaudmac/opt/anaconda3/envs/ES-spacy-py310/lib/python3.10/site-packages (from scikit-learn->sentence-transformers) (3.1.0)\n",
      "Requirement already satisfied: pillow!=8.3.*,>=5.3.0 in /Users/karnaudmac/opt/anaconda3/envs/ES-spacy-py310/lib/python3.10/site-packages (from torchvision->sentence-transformers) (9.4.0)\n",
      "Requirement already satisfied: charset-normalizer<4,>=2 in /Users/karnaudmac/opt/anaconda3/envs/ES-spacy-py310/lib/python3.10/site-packages (from requests->huggingface-hub>=0.4.0->sentence-transformers) (3.0.1)\n",
      "Requirement already satisfied: certifi>=2017.4.17 in /Users/karnaudmac/opt/anaconda3/envs/ES-spacy-py310/lib/python3.10/site-packages (from requests->huggingface-hub>=0.4.0->sentence-transformers) (2022.12.7)\n",
      "Requirement already satisfied: idna<4,>=2.5 in /Users/karnaudmac/opt/anaconda3/envs/ES-spacy-py310/lib/python3.10/site-packages (from requests->huggingface-hub>=0.4.0->sentence-transformers) (3.4)\n",
      "Requirement already satisfied: urllib3<1.27,>=1.21.1 in /Users/karnaudmac/opt/anaconda3/envs/ES-spacy-py310/lib/python3.10/site-packages (from requests->huggingface-hub>=0.4.0->sentence-transformers) (1.26.14)\n"
     ]
    }
   ],
   "source": [
    "!pip install sentence-transformers"
   ]
  },
  {
   "cell_type": "code",
   "execution_count": 3,
   "metadata": {},
   "outputs": [
    {
     "name": "stderr",
     "output_type": "stream",
     "text": [
      "/Users/karnaudmac/opt/anaconda3/envs/ES-spacy-py310/lib/python3.10/site-packages/tqdm/auto.py:22: TqdmWarning: IProgress not found. Please update jupyter and ipywidgets. See https://ipywidgets.readthedocs.io/en/stable/user_install.html\n",
      "  from .autonotebook import tqdm as notebook_tqdm\n"
     ]
    }
   ],
   "source": [
    "# import dependencies\n",
    "import json\n",
    "import torch\n",
    "import faiss\n",
    "from pprint import pprint\n",
    "import numpy as np\n",
    "from sentence_transformers import SentenceTransformer, util"
   ]
  },
  {
   "cell_type": "markdown",
   "metadata": {},
   "source": [
    "### Load data and preprocess"
   ]
  },
  {
   "cell_type": "code",
   "execution_count": 4,
   "metadata": {},
   "outputs": [],
   "source": [
    "# Load documents from JSON file\n",
    "with open('data/data.json', 'r') as file:\n",
    "    documents = json.load(file)"
   ]
  },
  {
   "cell_type": "code",
   "execution_count": 5,
   "metadata": {},
   "outputs": [],
   "source": [
    "# Load a transformers model\n",
    "embedder = SentenceTransformer('distilbert-base-nli-stsb-mean-tokens')"
   ]
  },
  {
   "cell_type": "code",
   "execution_count": 6,
   "metadata": {},
   "outputs": [],
   "source": [
    "# Compute sentence embeddings for every text n the documents\n",
    "corpus = [d['text'] for d in documents]\n",
    "corpus_embeddings = embedder.encode(corpus, convert_to_tensor=True)"
   ]
  },
  {
   "cell_type": "code",
   "execution_count": 7,
   "metadata": {},
   "outputs": [],
   "source": [
    "## move the tensores to CPU for the FAISS index to work\n",
    "corpus_embeddings=corpus_embeddings.cpu()"
   ]
  },
  {
   "cell_type": "markdown",
   "metadata": {},
   "source": [
    "### Create a Faiss index"
   ]
  },
  {
   "cell_type": "code",
   "execution_count": 8,
   "metadata": {},
   "outputs": [],
   "source": [
    "index = faiss.IndexIDMap(faiss.IndexFlatIP(768))\n",
    "index.add_with_ids(corpus_embeddings.numpy(), \n",
    "                   np.array(range(0, len(corpus))))\n",
    "\n",
    "# save the index for future use\n",
    "faiss.write_index(index, 'data/pandemics')"
   ]
  },
  {
   "cell_type": "markdown",
   "metadata": {},
   "source": [
    "### Search the documents"
   ]
  },
  {
   "cell_type": "code",
   "execution_count": 9,
   "metadata": {},
   "outputs": [],
   "source": [
    "# Build a search function that finds the most relevant search results\n",
    "def search(query, documents, k=5):\n",
    "    # the difference from milestone1 is the use of emberdder which is SBERt instead of BERT\n",
    "    encoded_query = embedder.encode([query])\n",
    "    top_k = index.search(encoded_query, k)\n",
    "    scores = top_k[0][0]\n",
    "    results = [documents[_id] for _id in top_k[1][0]]\n",
    "    return list(zip(results, scores))\n",
    "    "
   ]
  },
  {
   "cell_type": "code",
   "execution_count": 10,
   "metadata": {},
   "outputs": [
    {
     "ename": "",
     "evalue": "",
     "output_type": "error",
     "traceback": [
      "\u001b[1;31mCanceled future for execute_request message before replies were done"
     ]
    },
    {
     "ename": "",
     "evalue": "",
     "output_type": "error",
     "traceback": [
      "\u001b[1;31mThe Kernel crashed while executing code in the the current cell or a previous cell. Please review the code in the cell(s) to identify a possible cause of the failure. Click <a href='https://aka.ms/vscodeJupyterKernelCrash'>here</a> for more info. View Jupyter <a href='command:jupyter.viewOutput'>log</a> for further details."
     ]
    }
   ],
   "source": [
    "pprint(search(\"spanish flu casualties\",corpus, k=2))"
   ]
  },
  {
   "cell_type": "code",
   "execution_count": null,
   "metadata": {},
   "outputs": [],
   "source": []
  },
  {
   "cell_type": "code",
   "execution_count": null,
   "metadata": {},
   "outputs": [],
   "source": []
  }
 ],
 "metadata": {
  "kernelspec": {
   "display_name": "Python 3 (ipykernel)",
   "language": "python",
   "name": "python3"
  },
  "language_info": {
   "codemirror_mode": {
    "name": "ipython",
    "version": 3
   },
   "file_extension": ".py",
   "mimetype": "text/x-python",
   "name": "python",
   "nbconvert_exporter": "python",
   "pygments_lexer": "ipython3",
   "version": "3.10.9"
  },
  "vscode": {
   "interpreter": {
    "hash": "1c7a2c9229bdc689b285a683daec90d6deded6125896a99804ac678986c4dad0"
   }
  }
 },
 "nbformat": 4,
 "nbformat_minor": 4
}
